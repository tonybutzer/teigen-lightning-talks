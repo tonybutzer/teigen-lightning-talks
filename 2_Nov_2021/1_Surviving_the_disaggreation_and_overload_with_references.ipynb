{
 "cells": [
  {
   "cell_type": "markdown",
   "id": "9416d6ee",
   "metadata": {},
   "source": [
    "# Chat with Thomas Teigen and \n",
    "### get a pangeo.chs.usgs.gov account - FREE"
   ]
  },
  {
   "cell_type": "markdown",
   "id": "4fcaf993",
   "metadata": {},
   "source": [
    "# References\n",
    "\n",
    "1. Bex from ODC\n",
    "    - https://github.com/BexDunn/deafrica-sandbox-notebooks\n",
    "2. Aaron Friesz - Github\n",
    "    - https://github.com/amfriesz/eros_cop_webinar_notebooks\n",
    "    - Cloud Opt. Data formats\n",
    "\t- AWS data access -> data that is Free & Open vs. Requester Pays vs. Free w/ auth\n",
    "\t- Analysis in place...what does this look like\n",
    "\t- Scaling & Parallel processing (?)\n",
    "\t- Cost -> no magic formula\n",
    "\t- Migrating ArcGIS workflows -> w/ Rasterio and proj examples\n",
    "3. More from Matt Hanson and Cole Krehbiel\n",
    "3. Rich Signell\n",
    "4. General Youtube\n",
    "    - xarray composite sentinel\n",
    "5. Ryan Abernathey\n"
   ]
  },
  {
   "cell_type": "markdown",
   "id": "4c02d02e",
   "metadata": {},
   "source": [
    "# Topic Overload Strategies\n",
    "1. start with xarray and pandas\n"
   ]
  },
  {
   "cell_type": "markdown",
   "id": "38cf7620",
   "metadata": {},
   "source": [
    "# https://registry.opendata.aws/sentinel-2-l2a-cogs/"
   ]
  },
  {
   "cell_type": "code",
   "execution_count": null,
   "id": "47a21b60",
   "metadata": {},
   "outputs": [],
   "source": []
  }
 ],
 "metadata": {
  "kernelspec": {
   "display_name": "Python 3 (ipykernel)",
   "language": "python",
   "name": "python3"
  },
  "language_info": {
   "codemirror_mode": {
    "name": "ipython",
    "version": 3
   },
   "file_extension": ".py",
   "mimetype": "text/x-python",
   "name": "python",
   "nbconvert_exporter": "python",
   "pygments_lexer": "ipython3",
   "version": "3.9.7"
  }
 },
 "nbformat": 4,
 "nbformat_minor": 5
}

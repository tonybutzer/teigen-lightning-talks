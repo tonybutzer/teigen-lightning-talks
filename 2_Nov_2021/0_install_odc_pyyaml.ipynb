{
 "cells": [
  {
   "cell_type": "code",
   "execution_count": 1,
   "id": "e1f2abb0",
   "metadata": {},
   "outputs": [
    {
     "data": {
      "text/markdown": [
       "# Notebook Notes\n",
       "\n",
       "- 0_install_odc_pyyaml.ipynb\n",
       "    - installs requisite libraries/modules/packages - odc-stac with conda and pip\n",
       "-  0_simple_dask_test_console.ipynb\n",
       "    - test using DASK console with simple equation\n",
       "-  1_Surviving_the_disaggreation_and_overload_with_references.ipynb\n",
       "    - start of a list of interetsing references\n",
       "-  2_my_first_odc_stac_newton_hills_lake_lakota_drys_up.ipynb\n",
       "    - lake lakota NDWI\n",
       "-  3_simplify_my_first_odc_stac_newton_hills_lake_lakota_drys_up-Copy1.ipynb\n",
       "    - CoP presentation on Lake Lakota\n",
       "-  4_sioux_falls_annimations_brought_to_you_by_open_data_cube.ipynb\n",
       "    - creates a netcdf .nc of sioux falls landsat observations\n",
       "- 5_make_animated _gif_from_nc.ipynb\n",
       "    - simple notebook on netcdf input - animations outputs\n",
       "- 6_sentinel_sioux_falls_animations_brought_to_you_by_open_data_cube-Copy1.ipynb\n",
       "    - Now Sentinel plus only full scenes - clouds still sneak thru\n",
       "- 7_sentinel_animation_from_netcdf.ipynb\n",
       "    - simple netcdf of sentinel\n",
       "- 8_explore_netcdf_to_tif.ipynb\n",
       "    - create a single tif of the green band from a slice of the xarray dataset\n",
       "- 99_Staff_Attendance_Manager_Monitor_Rainy_Days_and_Mondays.ipynb\n",
       "    - demo how to pick Mondays and Fridays from a pandas data frame\n",
       "\n"
      ],
      "text/plain": [
       "<IPython.core.display.Markdown object>"
      ]
     },
     "metadata": {},
     "output_type": "display_data"
    }
   ],
   "source": [
    "from IPython.display import display, Markdown\n",
    "\n",
    "with open('Readme.md', 'r') as fh:\n",
    "    content = fh.read()\n",
    "\n",
    "display(Markdown(content))"
   ]
  },
  {
   "cell_type": "code",
   "execution_count": 2,
   "id": "7bc52eca",
   "metadata": {},
   "outputs": [],
   "source": [
    "#! conda list | egrep 'odc|datacube'"
   ]
  },
  {
   "cell_type": "code",
   "execution_count": 3,
   "id": "46a7935e",
   "metadata": {},
   "outputs": [
    {
     "name": "stdout",
     "output_type": "stream",
     "text": [
      "Collecting package metadata (current_repodata.json): done\n",
      "Solving environment: done\n",
      "\n",
      "\n",
      "==> WARNING: A newer version of conda exists. <==\n",
      "  current version: 4.10.1\n",
      "  latest version: 4.10.3\n",
      "\n",
      "Please update conda by running\n",
      "\n",
      "    $ conda update -n base -c defaults conda\n",
      "\n",
      "\n",
      "\n",
      "## Package Plan ##\n",
      "\n",
      "  environment location: /srv/conda/envs/pangeo\n",
      "\n",
      "  added / updated specs:\n",
      "    - odc-stac\n",
      "\n",
      "\n",
      "The following packages will be downloaded:\n",
      "\n",
      "    package                    |            build\n",
      "    ---------------------------|-----------------\n",
      "    ca-certificates-2021.10.26 |       h06a4308_2         115 KB  defaults\n",
      "    certifi-2021.10.8          |   py37h06a4308_0         151 KB  defaults\n",
      "    datacube-1.8.6             |     pyhd8ed1ab_0         187 KB  conda-forge\n",
      "    lark-parser-0.12.0         |     pyhd8ed1ab_0          78 KB  conda-forge\n",
      "    libgcc-ng-11.2.0           |      h1d223b6_11         887 KB  conda-forge\n",
      "    odc-stac-0.2.2             |     pyhd8ed1ab_0          29 KB  conda-forge\n",
      "    openssl-1.1.1l             |       h7f8727e_0         2.5 MB  defaults\n",
      "    psycopg2-2.9.2             |   py37h5e8e339_0         178 KB  conda-forge\n",
      "    pystac-1.2.0               |     pyhd8ed1ab_0          81 KB  conda-forge\n",
      "    ------------------------------------------------------------\n",
      "                                           Total:         4.2 MB\n",
      "\n",
      "The following NEW packages will be INSTALLED:\n",
      "\n",
      "  datacube           conda-forge/noarch::datacube-1.8.6-pyhd8ed1ab_0\n",
      "  lark-parser        conda-forge/noarch::lark-parser-0.12.0-pyhd8ed1ab_0\n",
      "  odc-stac           conda-forge/noarch::odc-stac-0.2.2-pyhd8ed1ab_0\n",
      "  psycopg2           conda-forge/linux-64::psycopg2-2.9.2-py37h5e8e339_0\n",
      "  pystac             conda-forge/noarch::pystac-1.2.0-pyhd8ed1ab_0\n",
      "\n",
      "The following packages will be UPDATED:\n",
      "\n",
      "  ca-certificates    conda-forge::ca-certificates-2021.5.3~ --> pkgs/main::ca-certificates-2021.10.26-h06a4308_2\n",
      "  certifi            conda-forge::certifi-2021.5.30-py37h8~ --> pkgs/main::certifi-2021.10.8-py37h06a4308_0\n",
      "  libgcc-ng                               9.3.0-h2828fa1_19 --> 11.2.0-h1d223b6_11\n",
      "  openssl            conda-forge::openssl-1.1.1k-h7f98852_0 --> pkgs/main::openssl-1.1.1l-h7f8727e_0\n",
      "\n",
      "\n",
      "\n",
      "Downloading and Extracting Packages\n",
      "lark-parser-0.12.0   | 78 KB     | ##################################### | 100% \n",
      "odc-stac-0.2.2       | 29 KB     | ##################################### | 100% \n",
      "openssl-1.1.1l       | 2.5 MB    | ##################################### | 100% \n",
      "certifi-2021.10.8    | 151 KB    | ##################################### | 100% \n",
      "pystac-1.2.0         | 81 KB     | ##################################### | 100% \n",
      "libgcc-ng-11.2.0     | 887 KB    | ##################################### | 100% \n",
      "psycopg2-2.9.2       | 178 KB    | ##################################### | 100% \n",
      "ca-certificates-2021 | 115 KB    | ##################################### | 100% \n",
      "datacube-1.8.6       | 187 KB    | ##################################### | 100% \n",
      "Preparing transaction: done\n",
      "Verifying transaction: done\n",
      "Executing transaction: done\n"
     ]
    }
   ],
   "source": [
    "# install extras for pangeo.chs...\n",
    "!conda install -y odc-stac\n",
    "# !conda install --use-local -y odc-stac\n",
    "\n",
    "#! pip install --user -U PyYAML"
   ]
  },
  {
   "cell_type": "code",
   "execution_count": 4,
   "id": "af284fc1",
   "metadata": {},
   "outputs": [
    {
     "name": "stdout",
     "output_type": "stream",
     "text": [
      "Requirement already satisfied: PyYAML in /home/jovyan/.local/lib/python3.7/site-packages (6.0)\n",
      "Collecting PyYAML\n",
      "  Using cached PyYAML-6.0-cp37-cp37m-manylinux_2_5_x86_64.manylinux1_x86_64.manylinux_2_12_x86_64.manylinux2010_x86_64.whl (596 kB)\n",
      "  Using cached PyYAML-5.4.1-cp37-cp37m-manylinux1_x86_64.whl (636 kB)\n"
     ]
    }
   ],
   "source": [
    "! pip install --user -U PyYAML"
   ]
  },
  {
   "cell_type": "code",
   "execution_count": 5,
   "id": "392ce78d",
   "metadata": {},
   "outputs": [],
   "source": [
    "# FAIL ! pip install --user  odc-stac"
   ]
  },
  {
   "cell_type": "code",
   "execution_count": 7,
   "id": "97aa3df0",
   "metadata": {},
   "outputs": [
    {
     "name": "stdout",
     "output_type": "stream",
     "text": [
      "datacube                  1.8.6              pyhd8ed1ab_0    conda-forge\r\n",
      "odc-stac                  0.2.2              pyhd8ed1ab_0    conda-forge\r\n"
     ]
    }
   ],
   "source": [
    "! conda list | egrep 'odc|datacube'"
   ]
  },
  {
   "cell_type": "code",
   "execution_count": null,
   "id": "dd55624b",
   "metadata": {},
   "outputs": [],
   "source": []
  }
 ],
 "metadata": {
  "kernelspec": {
   "display_name": "Python 3",
   "language": "python",
   "name": "python3"
  },
  "language_info": {
   "codemirror_mode": {
    "name": "ipython",
    "version": 3
   },
   "file_extension": ".py",
   "mimetype": "text/x-python",
   "name": "python",
   "nbconvert_exporter": "python",
   "pygments_lexer": "ipython3",
   "version": "3.7.10"
  }
 },
 "nbformat": 4,
 "nbformat_minor": 5
}

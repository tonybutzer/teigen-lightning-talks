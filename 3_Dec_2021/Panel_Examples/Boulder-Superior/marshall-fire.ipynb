{
 "cells": [
  {
   "attachments": {},
   "cell_type": "markdown",
   "id": "026a318c",
   "metadata": {},
   "source": [
    "# Marshall Fire \n",
    "\n",
    "![](https://www.mercurynews.com/wp-content/uploads/2022/01/TDP-L-AERIAL_MARSHALL_FIRE_030.jpg?w=780)\n",
    "\n",
    "\n",
    "![](https://assets.bouldercounty.org/wp-content/uploads/2021/12/cpp-marshall-fire-houses-smoke-header-20211230-1536x400.jpg)"
   ]
  },
  {
   "cell_type": "code",
   "execution_count": 1,
   "id": "06990061",
   "metadata": {},
   "outputs": [],
   "source": [
    "import geopandas as gpd\n",
    "from shapely.geometry import mapping\n",
    "from pystac_client import Client\n",
    "from pystac import ItemCollection"
   ]
  },
  {
   "cell_type": "code",
   "execution_count": 2,
   "id": "cc2b2343",
   "metadata": {},
   "outputs": [],
   "source": [
    "def make_geom(aoi_filename):\n",
    "    '''creates a geom/Polygon/Coordinates - bbox - from an geojson file'''\n",
    "    # read in AOI as a GeoDataFrame\n",
    "    aoi = gpd.read_file(aoi_filename)\n",
    "\n",
    "    # get the geometry of the AOI as a dictionary for use with PySTAC Client\n",
    "    geom = mapping(aoi.to_dict()['geometry'][0])\n",
    "    return geom"
   ]
  },
  {
   "cell_type": "code",
   "execution_count": 3,
   "id": "60d57162",
   "metadata": {},
   "outputs": [
    {
     "name": "stdout",
     "output_type": "stream",
     "text": [
      "marshall-fire.geojson\r\n"
     ]
    }
   ],
   "source": [
    "! ls *.geojson"
   ]
  },
  {
   "cell_type": "code",
   "execution_count": 4,
   "id": "3d2121f6",
   "metadata": {},
   "outputs": [],
   "source": [
    "aoi_geojson_file = 'marshall-fire.geojson'"
   ]
  },
  {
   "cell_type": "code",
   "execution_count": 5,
   "id": "5a957c51",
   "metadata": {},
   "outputs": [],
   "source": [
    "geom = make_geom(aoi_geojson_file)"
   ]
  },
  {
   "cell_type": "code",
   "execution_count": 19,
   "id": "08cd5a86",
   "metadata": {},
   "outputs": [],
   "source": [
    "def get_stac_records_sentinel_search(geom):\n",
    "    # STAC API - Landsat Collection 2\n",
    "    url = \"https://earth-search.aws.element84.com/v0\"\n",
    "\n",
    "    # Search parameters\n",
    "    params = {\n",
    "        \"collections\": [\"sentinel-s2-l2a-cogs\"],\n",
    "        \"intersects\": geom,\n",
    "        \"datetime\": \"2021-12-01/2022-01-07\",\n",
    "        \"limit\": 100,\n",
    "        \"query\": [\"eo:cloud_cover<70\", \"sentinel:data_coverage>10\"]\n",
    "    }\n",
    "    cat = Client.open(url)\n",
    "    search = cat.search(**params)\n",
    "    \n",
    "    matched = search.matched()\n",
    "    print(f\"{search.matched()} scenes found\")\n",
    "    return(search)"
   ]
  },
  {
   "cell_type": "code",
   "execution_count": 20,
   "id": "d05889af",
   "metadata": {},
   "outputs": [
    {
     "name": "stdout",
     "output_type": "stream",
     "text": [
      "11 scenes found\n"
     ]
    }
   ],
   "source": [
    "thing = get_stac_records_sentinel_search(geom)"
   ]
  },
  {
   "cell_type": "code",
   "execution_count": 21,
   "id": "67cb1951",
   "metadata": {},
   "outputs": [],
   "source": [
    "search_dict = thing.get_all_items_as_dict()['features']\n",
    "search_items = thing.get_all_items()"
   ]
  },
  {
   "cell_type": "code",
   "execution_count": 22,
   "id": "46dbd749",
   "metadata": {},
   "outputs": [
    {
     "name": "stdout",
     "output_type": "stream",
     "text": [
      "<Item id=S2B_13TDE_20211229_0_L2A>\n",
      "<Item id=S2A_13TDE_20211227_0_L2A>\n",
      "<Item id=S2B_13TDE_20211222_0_L2A>\n",
      "<Item id=S2B_13TDE_20211219_0_L2A>\n",
      "<Item id=S2A_13TDE_20211217_0_L2A>\n",
      "<Item id=S2A_13TDE_20211214_0_L2A>\n",
      "<Item id=S2B_13TDE_20211212_0_L2A>\n",
      "<Item id=S2B_13TDE_20211209_0_L2A>\n",
      "<Item id=S2A_13TDE_20211207_0_L2A>\n",
      "<Item id=S2A_13TDE_20211204_0_L2A>\n",
      "<Item id=S2B_13TDE_20211202_0_L2A>\n"
     ]
    }
   ],
   "source": [
    "for item in search_items:\n",
    "    print(item)"
   ]
  },
  {
   "cell_type": "code",
   "execution_count": 18,
   "id": "d77afc32",
   "metadata": {},
   "outputs": [
    {
     "data": {
      "text/plain": [
       "dict_keys(['thumbnail', 'overview', 'info', 'metadata', 'visual', 'B01', 'B02', 'B03', 'B04', 'B05', 'B06', 'B07', 'B08', 'B8A', 'B09', 'B11', 'B12', 'AOT', 'WVP', 'SCL'])"
      ]
     },
     "execution_count": 18,
     "metadata": {},
     "output_type": "execute_result"
    }
   ],
   "source": [
    "search_dict[0]['assets'].keys()"
   ]
  },
  {
   "cell_type": "code",
   "execution_count": 24,
   "id": "e3c1a395",
   "metadata": {},
   "outputs": [
    {
     "ename": "ImportError",
     "evalue": "cannot import name 'stac' from 'odc' (unknown location)",
     "output_type": "error",
     "traceback": [
      "\u001b[0;31m---------------------------------------------------------------------------\u001b[0m",
      "\u001b[0;31mImportError\u001b[0m                               Traceback (most recent call last)",
      "\u001b[0;32m<ipython-input-24-7fd2d912df10>\u001b[0m in \u001b[0;36m<module>\u001b[0;34m\u001b[0m\n\u001b[1;32m      1\u001b[0m \u001b[0;32mimport\u001b[0m \u001b[0myaml\u001b[0m\u001b[0;34m\u001b[0m\u001b[0;34m\u001b[0m\u001b[0m\n\u001b[1;32m      2\u001b[0m \u001b[0;34m\u001b[0m\u001b[0m\n\u001b[0;32m----> 3\u001b[0;31m \u001b[0;32mfrom\u001b[0m \u001b[0modc\u001b[0m \u001b[0;32mimport\u001b[0m \u001b[0mstac\u001b[0m\u001b[0;34m\u001b[0m\u001b[0;34m\u001b[0m\u001b[0m\n\u001b[0m\u001b[1;32m      4\u001b[0m \u001b[0;32mfrom\u001b[0m \u001b[0mpyproj\u001b[0m \u001b[0;32mimport\u001b[0m \u001b[0mCRS\u001b[0m\u001b[0;34m\u001b[0m\u001b[0;34m\u001b[0m\u001b[0m\n\u001b[1;32m      5\u001b[0m \u001b[0;32mfrom\u001b[0m \u001b[0mpystac\u001b[0m\u001b[0;34m.\u001b[0m\u001b[0mextensions\u001b[0m\u001b[0;34m.\u001b[0m\u001b[0mprojection\u001b[0m \u001b[0;32mimport\u001b[0m \u001b[0mProjectionExtension\u001b[0m\u001b[0;34m\u001b[0m\u001b[0;34m\u001b[0m\u001b[0m\n",
      "\u001b[0;31mImportError\u001b[0m: cannot import name 'stac' from 'odc' (unknown location)"
     ]
    }
   ],
   "source": [
    "import yaml\n",
    "\n",
    "from odc import stac\n",
    "from pyproj import CRS\n",
    "from pystac.extensions.projection import ProjectionExtension\n",
    "\n",
    "def open_odc(items, crs=None, resolution=None):\n",
    "    configuration_str = \"\"\"---\n",
    "        landsat-c2l2-sr:\n",
    "          measurements:\n",
    "            '*':\n",
    "              dtype: float32\n",
    "              nodata: 0\n",
    "              units: 'm'\n",
    "        \"\"\"\n",
    "    configuration = yaml.load(configuration_str, Loader=yaml.CSafeLoader)\n",
    "    datasets = list(stac.stac2ds(items, configuration))\n",
    "    \n",
    "    crs_str = str(items[0].properties['proj:epsg'])\n",
    "    crs = f'EPSG:{crs_str}'\n",
    "\n",
    "    resolution=(-10, 10)\n",
    "    data = stac.dc_load(datasets, bands=['visual'], chunks={\"x\": 1024, \"y\": 1024}, output_crs=crs, resolution=resolution)\n",
    "    return data"
   ]
  },
  {
   "cell_type": "code",
   "execution_count": null,
   "id": "535f150b",
   "metadata": {},
   "outputs": [],
   "source": []
  }
 ],
 "metadata": {
  "kernelspec": {
   "display_name": "Python 3",
   "language": "python",
   "name": "python3"
  },
  "language_info": {
   "codemirror_mode": {
    "name": "ipython",
    "version": 3
   },
   "file_extension": ".py",
   "mimetype": "text/x-python",
   "name": "python",
   "nbconvert_exporter": "python",
   "pygments_lexer": "ipython3",
   "version": "3.7.10"
  }
 },
 "nbformat": 4,
 "nbformat_minor": 5
}

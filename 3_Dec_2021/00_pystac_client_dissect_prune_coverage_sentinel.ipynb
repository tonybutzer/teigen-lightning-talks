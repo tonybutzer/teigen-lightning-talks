{
 "cells": [
  {
   "cell_type": "code",
   "execution_count": 1,
   "id": "721d6cc7",
   "metadata": {},
   "outputs": [
    {
     "name": "stdout",
     "output_type": "stream",
     "text": [
      "jupyter-butzer-40contractor-2eusgs-2egov\n",
      "########################\n",
      "CPU(s):              4\n",
      "On-line CPU(s) list: 0-3\n",
      "NUMA node0 CPU(s):   0-3\n",
      "########################\n",
      "Mem:            15G        1.1G        8.1G        572K        6.1G         14G\n"
     ]
    },
    {
     "name": "stderr",
     "output_type": "stream",
     "text": [
      "bash: line 3: nslookup: command not found\n"
     ]
    }
   ],
   "source": [
    "%%bash\n",
    "\n",
    "hostname\n",
    "nslookup `hostname`\n",
    "\n",
    "echo '########################'\n",
    "\n",
    "lscpu | grep -i cpu\\(\n",
    "echo '########################'\n",
    "\n",
    "free -h | grep -i mem"
   ]
  },
  {
   "cell_type": "code",
   "execution_count": 2,
   "id": "237b1cd5",
   "metadata": {},
   "outputs": [],
   "source": [
    "import geopandas as gpd\n",
    "from shapely.geometry import mapping\n",
    "from pystac_client import Client\n",
    "from pystac import ItemCollection"
   ]
  },
  {
   "cell_type": "code",
   "execution_count": 3,
   "id": "612befa1",
   "metadata": {},
   "outputs": [],
   "source": [
    "def make_geom(aoi_filename):\n",
    "    '''creates a geom/Polygon/Coordinates - bbox - from an geojson file'''\n",
    "    # read in AOI as a GeoDataFrame\n",
    "    aoi = gpd.read_file(aoi_filename)\n",
    "\n",
    "    # get the geometry of the AOI as a dictionary for use with PySTAC Client\n",
    "    geom = mapping(aoi.to_dict()['geometry'][0])\n",
    "    return geom"
   ]
  },
  {
   "cell_type": "code",
   "execution_count": 4,
   "id": "fe4a7ccb",
   "metadata": {},
   "outputs": [],
   "source": [
    "aoi_geojson_file = 'siouxFalls.geojson'"
   ]
  },
  {
   "cell_type": "code",
   "execution_count": 5,
   "id": "a3095fb1",
   "metadata": {},
   "outputs": [],
   "source": [
    "geom = make_geom(aoi_geojson_file)"
   ]
  },
  {
   "cell_type": "code",
   "execution_count": 6,
   "id": "dfd55d57",
   "metadata": {},
   "outputs": [
    {
     "data": {
      "text/plain": [
       "(((-96.8609619140625, 43.44893105587766),\n",
       "  (-96.5863037109375, 43.44893105587766),\n",
       "  (-96.5863037109375, 43.632099415557754),\n",
       "  (-96.8609619140625, 43.632099415557754),\n",
       "  (-96.8609619140625, 43.44893105587766)),)"
      ]
     },
     "execution_count": 6,
     "metadata": {},
     "output_type": "execute_result"
    }
   ],
   "source": [
    "geom['coordinates']"
   ]
  },
  {
   "cell_type": "code",
   "execution_count": 7,
   "id": "82efcd4d",
   "metadata": {},
   "outputs": [],
   "source": [
    "def get_stac_records_sentinel_search(geom):\n",
    "    # STAC API - Landsat Collection 2\n",
    "    url = \"https://earth-search.aws.element84.com/v0\"\n",
    "\n",
    "    # Search parameters\n",
    "    params = {\n",
    "        \"collections\": [\"sentinel-s2-l2a-cogs\"],\n",
    "        \"intersects\": geom,\n",
    "        \"datetime\": \"2020-05-01/2021-12-31\",\n",
    "        \"limit\": 100,\n",
    "        \"query\": [\"eo:cloud_cover<5\", \"sentinel:data_coverage>88\"]\n",
    "    }\n",
    "    cat = Client.open(url)\n",
    "    search = cat.search(**params)\n",
    "    \n",
    "    matched = search.matched()\n",
    "    print(f\"{search.matched()} scenes found\")\n",
    "    return(search)\n"
   ]
  },
  {
   "cell_type": "code",
   "execution_count": 8,
   "id": "c3280093",
   "metadata": {},
   "outputs": [
    {
     "name": "stdout",
     "output_type": "stream",
     "text": [
      "38 scenes found\n"
     ]
    }
   ],
   "source": [
    "thing = get_stac_records_sentinel_search(geom)"
   ]
  },
  {
   "cell_type": "code",
   "execution_count": 9,
   "id": "a46400a5",
   "metadata": {},
   "outputs": [
    {
     "data": {
      "text/plain": [
       "pystac_client.item_search.ItemSearch"
      ]
     },
     "execution_count": 9,
     "metadata": {},
     "output_type": "execute_result"
    }
   ],
   "source": [
    "type(thing)"
   ]
  },
  {
   "cell_type": "code",
   "execution_count": 10,
   "id": "015e8b2a",
   "metadata": {},
   "outputs": [
    {
     "data": {
      "text/plain": [
       "['__class__',\n",
       " '__delattr__',\n",
       " '__dict__',\n",
       " '__dir__',\n",
       " '__doc__',\n",
       " '__eq__',\n",
       " '__format__',\n",
       " '__ge__',\n",
       " '__getattribute__',\n",
       " '__gt__',\n",
       " '__hash__',\n",
       " '__init__',\n",
       " '__init_subclass__',\n",
       " '__le__',\n",
       " '__lt__',\n",
       " '__module__',\n",
       " '__ne__',\n",
       " '__new__',\n",
       " '__reduce__',\n",
       " '__reduce_ex__',\n",
       " '__repr__',\n",
       " '__setattr__',\n",
       " '__sizeof__',\n",
       " '__str__',\n",
       " '__subclasshook__',\n",
       " '__weakref__',\n",
       " '_format_bbox',\n",
       " '_format_collections',\n",
       " '_format_datetime',\n",
       " '_format_fields',\n",
       " '_format_filter',\n",
       " '_format_ids',\n",
       " '_format_intersects',\n",
       " '_format_query',\n",
       " '_format_sortby',\n",
       " '_max_items',\n",
       " '_parameters',\n",
       " '_stac_io',\n",
       " 'client',\n",
       " 'get_all_items',\n",
       " 'get_all_items_as_dict',\n",
       " 'get_item_collections',\n",
       " 'get_items',\n",
       " 'get_parameters',\n",
       " 'matched',\n",
       " 'method',\n",
       " 'url']"
      ]
     },
     "execution_count": 10,
     "metadata": {},
     "output_type": "execute_result"
    }
   ],
   "source": [
    "dir(thing)"
   ]
  },
  {
   "cell_type": "code",
   "execution_count": 11,
   "id": "a1030ff8",
   "metadata": {},
   "outputs": [],
   "source": [
    "search_dict = thing.get_all_items_as_dict()['features']\n",
    "search_items = thing.get_all_items()"
   ]
  },
  {
   "cell_type": "code",
   "execution_count": 12,
   "id": "d239f983",
   "metadata": {},
   "outputs": [],
   "source": [
    "#(items_dict, item_collection) = get_stac_records_sentinel(geom)"
   ]
  },
  {
   "cell_type": "code",
   "execution_count": 13,
   "id": "061b254c",
   "metadata": {},
   "outputs": [
    {
     "data": {
      "text/plain": [
       "<Item id=S2B_14TPP_20211123_0_L2A>"
      ]
     },
     "execution_count": 13,
     "metadata": {},
     "output_type": "execute_result"
    }
   ],
   "source": [
    "search_items[0]"
   ]
  },
  {
   "cell_type": "code",
   "execution_count": 14,
   "id": "f4d0d120",
   "metadata": {},
   "outputs": [
    {
     "data": {
      "text/plain": [
       "38"
      ]
     },
     "execution_count": 14,
     "metadata": {},
     "output_type": "execute_result"
    }
   ],
   "source": [
    "len(search_dict)"
   ]
  },
  {
   "cell_type": "code",
   "execution_count": 15,
   "id": "ef715486",
   "metadata": {},
   "outputs": [
    {
     "data": {
      "text/plain": [
       "dict_keys(['thumbnail', 'overview', 'info', 'metadata', 'visual', 'B01', 'B02', 'B03', 'B04', 'B05', 'B06', 'B07', 'B08', 'B8A', 'B09', 'B11', 'B12', 'AOT', 'WVP', 'SCL'])"
      ]
     },
     "execution_count": 15,
     "metadata": {},
     "output_type": "execute_result"
    }
   ],
   "source": [
    "search_dict[0]['assets'].keys()"
   ]
  },
  {
   "cell_type": "code",
   "execution_count": 16,
   "id": "50c20468",
   "metadata": {},
   "outputs": [
    {
     "ename": "ImportError",
     "evalue": "cannot import name 'stac' from 'odc' (unknown location)",
     "output_type": "error",
     "traceback": [
      "\u001b[0;31m---------------------------------------------------------------------------\u001b[0m",
      "\u001b[0;31mImportError\u001b[0m                               Traceback (most recent call last)",
      "\u001b[0;32m<ipython-input-16-61f0644dd7a5>\u001b[0m in \u001b[0;36m<module>\u001b[0;34m\u001b[0m\n\u001b[1;32m      1\u001b[0m \u001b[0;32mimport\u001b[0m \u001b[0myaml\u001b[0m\u001b[0;34m\u001b[0m\u001b[0;34m\u001b[0m\u001b[0m\n\u001b[1;32m      2\u001b[0m \u001b[0;34m\u001b[0m\u001b[0m\n\u001b[0;32m----> 3\u001b[0;31m \u001b[0;32mfrom\u001b[0m \u001b[0modc\u001b[0m \u001b[0;32mimport\u001b[0m \u001b[0mstac\u001b[0m\u001b[0;34m\u001b[0m\u001b[0;34m\u001b[0m\u001b[0m\n\u001b[0m\u001b[1;32m      4\u001b[0m \u001b[0;32mfrom\u001b[0m \u001b[0mpyproj\u001b[0m \u001b[0;32mimport\u001b[0m \u001b[0mCRS\u001b[0m\u001b[0;34m\u001b[0m\u001b[0;34m\u001b[0m\u001b[0m\n\u001b[1;32m      5\u001b[0m \u001b[0;32mfrom\u001b[0m \u001b[0mpystac\u001b[0m\u001b[0;34m.\u001b[0m\u001b[0mextensions\u001b[0m\u001b[0;34m.\u001b[0m\u001b[0mprojection\u001b[0m \u001b[0;32mimport\u001b[0m \u001b[0mProjectionExtension\u001b[0m\u001b[0;34m\u001b[0m\u001b[0;34m\u001b[0m\u001b[0m\n",
      "\u001b[0;31mImportError\u001b[0m: cannot import name 'stac' from 'odc' (unknown location)"
     ]
    }
   ],
   "source": [
    "import yaml\n",
    "\n",
    "from odc import stac\n",
    "from pyproj import CRS\n",
    "from pystac.extensions.projection import ProjectionExtension\n",
    "\n",
    "def open_odc(items, crs=None, resolution=None):\n",
    "    configuration_str = \"\"\"---\n",
    "        landsat-c2l2-sr:\n",
    "          measurements:\n",
    "            '*':\n",
    "              dtype: float32\n",
    "              nodata: 0\n",
    "              units: 'm'\n",
    "        \"\"\"\n",
    "    configuration = yaml.load(configuration_str, Loader=yaml.CSafeLoader)\n",
    "    datasets = list(stac.stac2ds(items, configuration))\n",
    "    \n",
    "    crs_str = str(items[0].properties['proj:epsg'])\n",
    "    crs = f'EPSG:{crs_str}'\n",
    "\n",
    "    resolution=(-10, 10)\n",
    "    data = stac.dc_load(datasets, bands=['B04', 'B03', 'B02', 'B09'], chunks={\"x\": 1024, \"y\": 1024}, output_crs=crs, resolution=resolution)\n",
    "    return data"
   ]
  },
  {
   "cell_type": "code",
   "execution_count": null,
   "id": "e51fd0bf",
   "metadata": {},
   "outputs": [],
   "source": [
    "#!conda install -y odc-stac"
   ]
  },
  {
   "cell_type": "code",
   "execution_count": null,
   "id": "f280540d",
   "metadata": {},
   "outputs": [],
   "source": [
    " _datacube = open_odc(search_items)"
   ]
  },
  {
   "cell_type": "code",
   "execution_count": null,
   "id": "8da0519c",
   "metadata": {},
   "outputs": [],
   "source": [
    "_datacube"
   ]
  },
  {
   "cell_type": "code",
   "execution_count": null,
   "id": "909b0540",
   "metadata": {},
   "outputs": [],
   "source": [
    "import rioxarray\n",
    "datacube = _datacube.rio.clip([geom], crs='epsg:4326')"
   ]
  },
  {
   "cell_type": "code",
   "execution_count": null,
   "id": "e5cb6839",
   "metadata": {},
   "outputs": [],
   "source": [
    "datacube"
   ]
  },
  {
   "cell_type": "code",
   "execution_count": null,
   "id": "72e6c6c5",
   "metadata": {},
   "outputs": [],
   "source": [
    "def nc_from_ds(DS, filename):\n",
    "    DS.time.attrs = {}  #this allowed the nc to be written\n",
    "    #DS.SCL.attrs = {}\n",
    "    ds1 = DS.drop(labels='spatial_ref')\n",
    "    ds1.to_netcdf(filename)"
   ]
  },
  {
   "cell_type": "code",
   "execution_count": null,
   "id": "17485a2d",
   "metadata": {},
   "outputs": [],
   "source": [
    "%%time\n",
    "nc_from_ds(datacube, 'siouxFallsPruned.nc')"
   ]
  },
  {
   "cell_type": "code",
   "execution_count": null,
   "id": "fdab7f27",
   "metadata": {},
   "outputs": [],
   "source": [
    "#! ls ~/.aws/"
   ]
  },
  {
   "cell_type": "code",
   "execution_count": null,
   "id": "47d662f6",
   "metadata": {},
   "outputs": [],
   "source": [
    "#! echo '*.nc' > .gitignore"
   ]
  },
  {
   "cell_type": "markdown",
   "id": "2168bb10",
   "metadata": {},
   "source": [
    "# Download the netcdf tony"
   ]
  },
  {
   "cell_type": "code",
   "execution_count": null,
   "id": "adb9d1db",
   "metadata": {},
   "outputs": [],
   "source": [
    "! date; ls -lh *.nc"
   ]
  },
  {
   "cell_type": "code",
   "execution_count": null,
   "id": "d67a5415",
   "metadata": {},
   "outputs": [],
   "source": [
    "#! cp siouxFallsPruned.nc siouxFallsPruned1.nc"
   ]
  },
  {
   "cell_type": "code",
   "execution_count": 17,
   "id": "051f6121",
   "metadata": {},
   "outputs": [
    {
     "name": "stdout",
     "output_type": "stream",
     "text": [
      "# packages in environment at /srv/conda/envs/pangeo:\r\n",
      "#\r\n",
      "# Name                    Version                   Build  Channel\r\n"
     ]
    }
   ],
   "source": [
    "! conda list odc-stac"
   ]
  },
  {
   "cell_type": "code",
   "execution_count": null,
   "id": "8385f408",
   "metadata": {},
   "outputs": [
    {
     "name": "stdout",
     "output_type": "stream",
     "text": [
      "Collecting package metadata (current_repodata.json): done\n",
      "Solving environment: - "
     ]
    }
   ],
   "source": [
    "!conda install -y  odc-stac"
   ]
  },
  {
   "cell_type": "code",
   "execution_count": null,
   "id": "0b8b5a19",
   "metadata": {},
   "outputs": [],
   "source": []
  }
 ],
 "metadata": {
  "kernelspec": {
   "display_name": "Python 3",
   "language": "python",
   "name": "python3"
  },
  "language_info": {
   "codemirror_mode": {
    "name": "ipython",
    "version": 3
   },
   "file_extension": ".py",
   "mimetype": "text/x-python",
   "name": "python",
   "nbconvert_exporter": "python",
   "pygments_lexer": "ipython3",
   "version": "3.7.10"
  }
 },
 "nbformat": 4,
 "nbformat_minor": 5
}

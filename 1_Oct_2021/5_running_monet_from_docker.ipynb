{
 "cells": [
  {
   "cell_type": "markdown",
   "id": "c09d77a8",
   "metadata": {},
   "source": [
    "# running monet from docker"
   ]
  },
  {
   "cell_type": "code",
   "execution_count": null,
   "id": "b2306795",
   "metadata": {},
   "outputs": [],
   "source": [
    "! docker run tbutzer/monet-tool monet --help"
   ]
  },
  {
   "cell_type": "code",
   "execution_count": null,
   "id": "05178666",
   "metadata": {},
   "outputs": [],
   "source": [
    "! sudo rm -fr ~/data/*"
   ]
  },
  {
   "cell_type": "code",
   "execution_count": null,
   "id": "4764e2dc",
   "metadata": {},
   "outputs": [],
   "source": [
    "!docker run -v /home/ec2-user/data:/home/monet/imagery -it tbutzer/monet-tool monet -y \\\n",
    "  43.49 -96.69  -c 25 -s 2020-01-01 -e 2020-12-31 -t -D --radius 10000"
   ]
  },
  {
   "cell_type": "markdown",
   "id": "50b08fe0",
   "metadata": {},
   "source": [
    "# My classes from last SPRING PANGEO Onboarding are here:\n",
    "\n",
    "## K:\\90daytemp\\butzer\\AWS_PANGEO_VIDEOS"
   ]
  },
  {
   "cell_type": "markdown",
   "id": "fab4bb78",
   "metadata": {},
   "source": [
    "# Back to you Thomas Teigen!"
   ]
  },
  {
   "cell_type": "code",
   "execution_count": null,
   "id": "356184ae",
   "metadata": {},
   "outputs": [],
   "source": []
  }
 ],
 "metadata": {
  "kernelspec": {
   "display_name": "Python 3 (ipykernel)",
   "language": "python",
   "name": "python3"
  },
  "language_info": {
   "codemirror_mode": {
    "name": "ipython",
    "version": 3
   },
   "file_extension": ".py",
   "mimetype": "text/x-python",
   "name": "python",
   "nbconvert_exporter": "python",
   "pygments_lexer": "ipython3",
   "version": "3.9.7"
  }
 },
 "nbformat": 4,
 "nbformat_minor": 5
}
